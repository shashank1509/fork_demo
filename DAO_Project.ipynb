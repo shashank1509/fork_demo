{
  "cells": [
    {
      "cell_type": "markdown",
      "metadata": {
        "id": "view-in-github",
        "colab_type": "text"
      },
      "source": [
        "<a href=\"https://colab.research.google.com/github/nicolaineo/fork_demo/blob/main/DAO_Project.ipynb\" target=\"_parent\"><img src=\"https://colab.research.google.com/assets/colab-badge.svg\" alt=\"Open In Colab\"/></a>"
      ]
    },
    {
      "cell_type": "markdown",
      "id": "6d82df1c",
      "metadata": {
        "id": "6d82df1c"
      },
      "source": [
        "# Contents\n",
        "- [Data Overview](#section1)\n",
        "- [Cleaning Data](#section2)\n",
        "    - [Standardising Column Values and Type ](#section2.1)\n",
        "    - [Checking for Nan Values](#section2.2)\n",
        "    - [Checking for Duplicates](#section2.3)\n",
        "    - [Checking for Outliers](#section2.4)"
      ]
    },
    {
      "cell_type": "code",
      "execution_count": null,
      "id": "cc145dbb",
      "metadata": {
        "id": "cc145dbb"
      },
      "outputs": [],
      "source": [
        "import pandas as pd\n",
        "import numpy as np\n",
        "import matplotlib.pyplot as plt\n",
        "import seaborn as sns"
      ]
    },
    {
      "cell_type": "markdown",
      "id": "109eb4cb",
      "metadata": {
        "id": "109eb4cb"
      },
      "source": [
        "# Data Overview <a id=\"section1\"></a>"
      ]
    },
    {
      "cell_type": "code",
      "execution_count": 2,
      "id": "7a44538e",
      "metadata": {
        "colab": {
          "base_uri": "https://localhost:8080/",
          "height": 187
        },
        "id": "7a44538e",
        "outputId": "01be01e0-c385-4cd0-9bef-ba85dd730529"
      },
      "outputs": [
        {
          "output_type": "error",
          "ename": "NameError",
          "evalue": "ignored",
          "traceback": [
            "\u001b[0;31m---------------------------------------------------------------------------\u001b[0m",
            "\u001b[0;31mNameError\u001b[0m                                 Traceback (most recent call last)",
            "\u001b[0;32m<ipython-input-2-ff0b22b13f89>\u001b[0m in \u001b[0;36m<module>\u001b[0;34m\u001b[0m\n\u001b[0;32m----> 1\u001b[0;31m \u001b[0mdf\u001b[0m \u001b[0;34m=\u001b[0m \u001b[0mpd\u001b[0m\u001b[0;34m.\u001b[0m\u001b[0mread_csv\u001b[0m\u001b[0;34m(\u001b[0m\u001b[0;34m'ecommerce.csv'\u001b[0m\u001b[0;34m)\u001b[0m\u001b[0;34m\u001b[0m\u001b[0;34m\u001b[0m\u001b[0m\n\u001b[0m\u001b[1;32m      2\u001b[0m \u001b[0mdf\u001b[0m\u001b[0;34m.\u001b[0m\u001b[0minfo\u001b[0m\u001b[0;34m(\u001b[0m\u001b[0;34m)\u001b[0m\u001b[0;34m\u001b[0m\u001b[0;34m\u001b[0m\u001b[0m\n",
            "\u001b[0;31mNameError\u001b[0m: name 'pd' is not defined"
          ]
        }
      ],
      "source": [
        "df = pd.read_csv('ecommerce.csv')\n",
        "df.info()"
      ]
    },
    {
      "cell_type": "code",
      "execution_count": null,
      "id": "d2511475",
      "metadata": {
        "id": "d2511475",
        "outputId": "15fa1b4b-9d93-4d84-ae70-23f047f1a3c0",
        "colab": {
          "base_uri": "https://localhost:8080/"
        }
      },
      "outputs": [
        {
          "output_type": "execute_result",
          "data": {
            "text/plain": [
              "Order ID             object\n",
              "Order Date           object\n",
              "Ship Date            object\n",
              "Aging               float64\n",
              "Ship Mode            object\n",
              "Product Category     object\n",
              "Product              object\n",
              "Sales                object\n",
              "Quantity             object\n",
              "Discount             object\n",
              "Profit               object\n",
              "Shipping Cost        object\n",
              "Order Priority       object\n",
              "Customer ID          object\n",
              "Customer Name        object\n",
              "Segment              object\n",
              "City                 object\n",
              "State                object\n",
              "Country              object\n",
              "Region               object\n",
              "Months               object\n",
              "dtype: object"
            ]
          },
          "metadata": {},
          "execution_count": 12
        }
      ],
      "source": [
        "df.dtypes"
      ]
    },
    {
      "cell_type": "markdown",
      "id": "0c27b377",
      "metadata": {
        "id": "0c27b377"
      },
      "source": [
        "# Cleaning Data <a id=\"section2\"></a>"
      ]
    },
    {
      "cell_type": "markdown",
      "id": "66c38911",
      "metadata": {
        "id": "66c38911"
      },
      "source": [
        "### Standardising Column Values and Type <a id=\"section2.1\"></a>"
      ]
    },
    {
      "cell_type": "code",
      "execution_count": null,
      "id": "5515e1a6",
      "metadata": {
        "id": "5515e1a6",
        "outputId": "1f14f92c-54cc-4d3f-87ea-3f71fcf89470",
        "colab": {
          "base_uri": "https://localhost:8080/"
        }
      },
      "outputs": [
        {
          "output_type": "stream",
          "name": "stderr",
          "text": [
            "<ipython-input-13-f1614a391eea>:2: FutureWarning: The default value of regex will change from True to False in a future version. In addition, single character regular expressions will *not* be treated as literal strings when regex=True.\n",
            "  df['Sales'] = df['Sales'].str.replace('$',\"\")\n"
          ]
        }
      ],
      "source": [
        "## Data Cleaning for Sales ## \n",
        "df['Sales'] = df['Sales'].str.replace('$',\"\")\n",
        "df=df[df.Sales != (\"0.xf\")]\n",
        "df=df[df.Sales != ('0.5.26') ]\n",
        "df['Sales'] = df['Sales'].astype(float)"
      ]
    },
    {
      "cell_type": "code",
      "execution_count": null,
      "id": "903d6659",
      "metadata": {
        "id": "903d6659",
        "outputId": "fb547738-406c-43f6-ba2f-a8a2e73841e3",
        "colab": {
          "base_uri": "https://localhost:8080/",
          "height": 490
        }
      },
      "outputs": [
        {
          "output_type": "execute_result",
          "data": {
            "text/plain": [
              "    Order ID Order Date Ship Date  Aging    Ship Mode    Product Category  \\\n",
              "0  AU-2015-1    11/9/15  11/17/15    8.0  First Class  Auto & Accessories   \n",
              "1  AU-2015-2    6/30/15    7/2/15    2.0  First Class  Auto & Accessories   \n",
              "2  AU-2015-3    12/5/15  12/13/15    8.0  First Class  Auto & Accessories   \n",
              "3  AU-2015-4     5/9/15   5/16/15    7.0  First Class  Auto & Accessories   \n",
              "4  AU-2015-5     7/9/15   7/18/15    9.0  First Class  Auto & Accessories   \n",
              "\n",
              "             Product  Sales Quantity Discount  ... Shipping Cost  \\\n",
              "0  Car Media Players  140.0        2     0.05  ...        $4.60    \n",
              "1       Car Speakers  211.0        3     0.03  ...       $11.20    \n",
              "2    Car Body Covers  117.0        5     0.01  ...        $3.10    \n",
              "3    Car & Bike Care  118.0        2     0.05  ...        $2.60    \n",
              "4               Tyre  250.0        1     0.04  ...       $16.00    \n",
              "\n",
              "  Order Priority Customer ID    Customer Name      Segment        City  \\\n",
              "0         Medium      LS-001     Lane Daniels     Consumer    Brisbane   \n",
              "1         Medium      IZ-002    Alvarado Kriz  Home Office      Berlin   \n",
              "2       Critical      EN-003       Moon Weien     Consumer     Porirua   \n",
              "3           High      AN-004  Sanchez Bergman    Corporate       Kabul   \n",
              "4       Critical      ON-005     Rowe Jackson    Corporate  Townsville   \n",
              "\n",
              "        State      Country        Region Months  \n",
              "0  Queensland    Australia       Oceania    Nov  \n",
              "1      Berlin      Germany       Central    Jun  \n",
              "2  Wellington  New Zealand       Oceania    Dec  \n",
              "3       Kabul  Afghanistan  Central Asia    May  \n",
              "4  Queensland    Australia       Oceania    Jul  \n",
              "\n",
              "[5 rows x 21 columns]"
            ],
            "text/html": [
              "\n",
              "  <div id=\"df-df344608-e6be-494e-bd97-a79dcc51bca0\">\n",
              "    <div class=\"colab-df-container\">\n",
              "      <div>\n",
              "<style scoped>\n",
              "    .dataframe tbody tr th:only-of-type {\n",
              "        vertical-align: middle;\n",
              "    }\n",
              "\n",
              "    .dataframe tbody tr th {\n",
              "        vertical-align: top;\n",
              "    }\n",
              "\n",
              "    .dataframe thead th {\n",
              "        text-align: right;\n",
              "    }\n",
              "</style>\n",
              "<table border=\"1\" class=\"dataframe\">\n",
              "  <thead>\n",
              "    <tr style=\"text-align: right;\">\n",
              "      <th></th>\n",
              "      <th>Order ID</th>\n",
              "      <th>Order Date</th>\n",
              "      <th>Ship Date</th>\n",
              "      <th>Aging</th>\n",
              "      <th>Ship Mode</th>\n",
              "      <th>Product Category</th>\n",
              "      <th>Product</th>\n",
              "      <th>Sales</th>\n",
              "      <th>Quantity</th>\n",
              "      <th>Discount</th>\n",
              "      <th>...</th>\n",
              "      <th>Shipping Cost</th>\n",
              "      <th>Order Priority</th>\n",
              "      <th>Customer ID</th>\n",
              "      <th>Customer Name</th>\n",
              "      <th>Segment</th>\n",
              "      <th>City</th>\n",
              "      <th>State</th>\n",
              "      <th>Country</th>\n",
              "      <th>Region</th>\n",
              "      <th>Months</th>\n",
              "    </tr>\n",
              "  </thead>\n",
              "  <tbody>\n",
              "    <tr>\n",
              "      <th>0</th>\n",
              "      <td>AU-2015-1</td>\n",
              "      <td>11/9/15</td>\n",
              "      <td>11/17/15</td>\n",
              "      <td>8.0</td>\n",
              "      <td>First Class</td>\n",
              "      <td>Auto &amp; Accessories</td>\n",
              "      <td>Car Media Players</td>\n",
              "      <td>140.0</td>\n",
              "      <td>2</td>\n",
              "      <td>0.05</td>\n",
              "      <td>...</td>\n",
              "      <td>$4.60</td>\n",
              "      <td>Medium</td>\n",
              "      <td>LS-001</td>\n",
              "      <td>Lane Daniels</td>\n",
              "      <td>Consumer</td>\n",
              "      <td>Brisbane</td>\n",
              "      <td>Queensland</td>\n",
              "      <td>Australia</td>\n",
              "      <td>Oceania</td>\n",
              "      <td>Nov</td>\n",
              "    </tr>\n",
              "    <tr>\n",
              "      <th>1</th>\n",
              "      <td>AU-2015-2</td>\n",
              "      <td>6/30/15</td>\n",
              "      <td>7/2/15</td>\n",
              "      <td>2.0</td>\n",
              "      <td>First Class</td>\n",
              "      <td>Auto &amp; Accessories</td>\n",
              "      <td>Car Speakers</td>\n",
              "      <td>211.0</td>\n",
              "      <td>3</td>\n",
              "      <td>0.03</td>\n",
              "      <td>...</td>\n",
              "      <td>$11.20</td>\n",
              "      <td>Medium</td>\n",
              "      <td>IZ-002</td>\n",
              "      <td>Alvarado Kriz</td>\n",
              "      <td>Home Office</td>\n",
              "      <td>Berlin</td>\n",
              "      <td>Berlin</td>\n",
              "      <td>Germany</td>\n",
              "      <td>Central</td>\n",
              "      <td>Jun</td>\n",
              "    </tr>\n",
              "    <tr>\n",
              "      <th>2</th>\n",
              "      <td>AU-2015-3</td>\n",
              "      <td>12/5/15</td>\n",
              "      <td>12/13/15</td>\n",
              "      <td>8.0</td>\n",
              "      <td>First Class</td>\n",
              "      <td>Auto &amp; Accessories</td>\n",
              "      <td>Car Body Covers</td>\n",
              "      <td>117.0</td>\n",
              "      <td>5</td>\n",
              "      <td>0.01</td>\n",
              "      <td>...</td>\n",
              "      <td>$3.10</td>\n",
              "      <td>Critical</td>\n",
              "      <td>EN-003</td>\n",
              "      <td>Moon Weien</td>\n",
              "      <td>Consumer</td>\n",
              "      <td>Porirua</td>\n",
              "      <td>Wellington</td>\n",
              "      <td>New Zealand</td>\n",
              "      <td>Oceania</td>\n",
              "      <td>Dec</td>\n",
              "    </tr>\n",
              "    <tr>\n",
              "      <th>3</th>\n",
              "      <td>AU-2015-4</td>\n",
              "      <td>5/9/15</td>\n",
              "      <td>5/16/15</td>\n",
              "      <td>7.0</td>\n",
              "      <td>First Class</td>\n",
              "      <td>Auto &amp; Accessories</td>\n",
              "      <td>Car &amp; Bike Care</td>\n",
              "      <td>118.0</td>\n",
              "      <td>2</td>\n",
              "      <td>0.05</td>\n",
              "      <td>...</td>\n",
              "      <td>$2.60</td>\n",
              "      <td>High</td>\n",
              "      <td>AN-004</td>\n",
              "      <td>Sanchez Bergman</td>\n",
              "      <td>Corporate</td>\n",
              "      <td>Kabul</td>\n",
              "      <td>Kabul</td>\n",
              "      <td>Afghanistan</td>\n",
              "      <td>Central Asia</td>\n",
              "      <td>May</td>\n",
              "    </tr>\n",
              "    <tr>\n",
              "      <th>4</th>\n",
              "      <td>AU-2015-5</td>\n",
              "      <td>7/9/15</td>\n",
              "      <td>7/18/15</td>\n",
              "      <td>9.0</td>\n",
              "      <td>First Class</td>\n",
              "      <td>Auto &amp; Accessories</td>\n",
              "      <td>Tyre</td>\n",
              "      <td>250.0</td>\n",
              "      <td>1</td>\n",
              "      <td>0.04</td>\n",
              "      <td>...</td>\n",
              "      <td>$16.00</td>\n",
              "      <td>Critical</td>\n",
              "      <td>ON-005</td>\n",
              "      <td>Rowe Jackson</td>\n",
              "      <td>Corporate</td>\n",
              "      <td>Townsville</td>\n",
              "      <td>Queensland</td>\n",
              "      <td>Australia</td>\n",
              "      <td>Oceania</td>\n",
              "      <td>Jul</td>\n",
              "    </tr>\n",
              "  </tbody>\n",
              "</table>\n",
              "<p>5 rows × 21 columns</p>\n",
              "</div>\n",
              "      <button class=\"colab-df-convert\" onclick=\"convertToInteractive('df-df344608-e6be-494e-bd97-a79dcc51bca0')\"\n",
              "              title=\"Convert this dataframe to an interactive table.\"\n",
              "              style=\"display:none;\">\n",
              "        \n",
              "  <svg xmlns=\"http://www.w3.org/2000/svg\" height=\"24px\"viewBox=\"0 0 24 24\"\n",
              "       width=\"24px\">\n",
              "    <path d=\"M0 0h24v24H0V0z\" fill=\"none\"/>\n",
              "    <path d=\"M18.56 5.44l.94 2.06.94-2.06 2.06-.94-2.06-.94-.94-2.06-.94 2.06-2.06.94zm-11 1L8.5 8.5l.94-2.06 2.06-.94-2.06-.94L8.5 2.5l-.94 2.06-2.06.94zm10 10l.94 2.06.94-2.06 2.06-.94-2.06-.94-.94-2.06-.94 2.06-2.06.94z\"/><path d=\"M17.41 7.96l-1.37-1.37c-.4-.4-.92-.59-1.43-.59-.52 0-1.04.2-1.43.59L10.3 9.45l-7.72 7.72c-.78.78-.78 2.05 0 2.83L4 21.41c.39.39.9.59 1.41.59.51 0 1.02-.2 1.41-.59l7.78-7.78 2.81-2.81c.8-.78.8-2.07 0-2.86zM5.41 20L4 18.59l7.72-7.72 1.47 1.35L5.41 20z\"/>\n",
              "  </svg>\n",
              "      </button>\n",
              "      \n",
              "  <style>\n",
              "    .colab-df-container {\n",
              "      display:flex;\n",
              "      flex-wrap:wrap;\n",
              "      gap: 12px;\n",
              "    }\n",
              "\n",
              "    .colab-df-convert {\n",
              "      background-color: #E8F0FE;\n",
              "      border: none;\n",
              "      border-radius: 50%;\n",
              "      cursor: pointer;\n",
              "      display: none;\n",
              "      fill: #1967D2;\n",
              "      height: 32px;\n",
              "      padding: 0 0 0 0;\n",
              "      width: 32px;\n",
              "    }\n",
              "\n",
              "    .colab-df-convert:hover {\n",
              "      background-color: #E2EBFA;\n",
              "      box-shadow: 0px 1px 2px rgba(60, 64, 67, 0.3), 0px 1px 3px 1px rgba(60, 64, 67, 0.15);\n",
              "      fill: #174EA6;\n",
              "    }\n",
              "\n",
              "    [theme=dark] .colab-df-convert {\n",
              "      background-color: #3B4455;\n",
              "      fill: #D2E3FC;\n",
              "    }\n",
              "\n",
              "    [theme=dark] .colab-df-convert:hover {\n",
              "      background-color: #434B5C;\n",
              "      box-shadow: 0px 1px 3px 1px rgba(0, 0, 0, 0.15);\n",
              "      filter: drop-shadow(0px 1px 2px rgba(0, 0, 0, 0.3));\n",
              "      fill: #FFFFFF;\n",
              "    }\n",
              "  </style>\n",
              "\n",
              "      <script>\n",
              "        const buttonEl =\n",
              "          document.querySelector('#df-df344608-e6be-494e-bd97-a79dcc51bca0 button.colab-df-convert');\n",
              "        buttonEl.style.display =\n",
              "          google.colab.kernel.accessAllowed ? 'block' : 'none';\n",
              "\n",
              "        async function convertToInteractive(key) {\n",
              "          const element = document.querySelector('#df-df344608-e6be-494e-bd97-a79dcc51bca0');\n",
              "          const dataTable =\n",
              "            await google.colab.kernel.invokeFunction('convertToInteractive',\n",
              "                                                     [key], {});\n",
              "          if (!dataTable) return;\n",
              "\n",
              "          const docLinkHtml = 'Like what you see? Visit the ' +\n",
              "            '<a target=\"_blank\" href=https://colab.research.google.com/notebooks/data_table.ipynb>data table notebook</a>'\n",
              "            + ' to learn more about interactive tables.';\n",
              "          element.innerHTML = '';\n",
              "          dataTable['output_type'] = 'display_data';\n",
              "          await google.colab.output.renderOutput(dataTable, element);\n",
              "          const docLink = document.createElement('div');\n",
              "          docLink.innerHTML = docLinkHtml;\n",
              "          element.appendChild(docLink);\n",
              "        }\n",
              "      </script>\n",
              "    </div>\n",
              "  </div>\n",
              "  "
            ]
          },
          "metadata": {},
          "execution_count": 14
        }
      ],
      "source": [
        "df.head()"
      ]
    },
    {
      "cell_type": "code",
      "execution_count": null,
      "id": "3912c93e",
      "metadata": {
        "id": "3912c93e"
      },
      "outputs": [],
      "source": [
        "## Data Cleaning for Discount ## \n",
        "df['Discount'].value_counts()\n",
        "df['Discount'] = df['Discount'].str.replace('xxx',\"0\")\n",
        "df['Discount'] = df['Discount'].astype(float)"
      ]
    },
    {
      "cell_type": "code",
      "execution_count": null,
      "id": "c83980c3",
      "metadata": {
        "id": "c83980c3",
        "outputId": "6a6b81cf-cf58-47c5-fcb7-5ee20888d857",
        "colab": {
          "base_uri": "https://localhost:8080/"
        }
      },
      "outputs": [
        {
          "output_type": "execute_result",
          "data": {
            "text/plain": [
              "0        0.05\n",
              "1        0.03\n",
              "2        0.01\n",
              "3        0.05\n",
              "4        0.04\n",
              "         ... \n",
              "51285     NaN\n",
              "51286     NaN\n",
              "51287     NaN\n",
              "51288     NaN\n",
              "51289     NaN\n",
              "Name: Discount, Length: 51289, dtype: float64"
            ]
          },
          "metadata": {},
          "execution_count": 16
        }
      ],
      "source": [
        "df['Discount']"
      ]
    },
    {
      "cell_type": "code",
      "execution_count": null,
      "id": "c3f2ca78",
      "metadata": {
        "id": "c3f2ca78",
        "outputId": "6040039e-a2e7-4901-904b-ff590299b740",
        "colab": {
          "base_uri": "https://localhost:8080/"
        }
      },
      "outputs": [
        {
          "output_type": "stream",
          "name": "stderr",
          "text": [
            "<ipython-input-17-03186e379b72>:2: FutureWarning: The default value of regex will change from True to False in a future version. In addition, single character regular expressions will *not* be treated as literal strings when regex=True.\n",
            "  df['Shipping Cost'] = df['Shipping Cost'].str.replace('$',\"\")\n",
            "<ipython-input-17-03186e379b72>:5: SettingWithCopyWarning: \n",
            "A value is trying to be set on a copy of a slice from a DataFrame.\n",
            "Try using .loc[row_indexer,col_indexer] = value instead\n",
            "\n",
            "See the caveats in the documentation: https://pandas.pydata.org/pandas-docs/stable/user_guide/indexing.html#returning-a-view-versus-a-copy\n",
            "  df['Shipping Cost'] = df['Shipping Cost'].astype(float)\n"
          ]
        }
      ],
      "source": [
        "## Data Cleaning for Shipping Cost ## \n",
        "df['Shipping Cost'] = df['Shipping Cost'].str.replace('$',\"\")\n",
        "df['Shipping Cost'].value_counts()\n",
        "df=df[df ['Shipping Cost']!= ('test') ] \n",
        "df['Shipping Cost'] = df['Shipping Cost'].astype(float)"
      ]
    },
    {
      "cell_type": "code",
      "execution_count": null,
      "id": "73028fac",
      "metadata": {
        "id": "73028fac",
        "outputId": "a1f3ea6b-1a79-4d70-843d-869637c0646e",
        "colab": {
          "base_uri": "https://localhost:8080/"
        }
      },
      "outputs": [
        {
          "output_type": "execute_result",
          "data": {
            "text/plain": [
              "Order ID             object\n",
              "Order Date           object\n",
              "Ship Date            object\n",
              "Aging               float64\n",
              "Ship Mode            object\n",
              "Product Category     object\n",
              "Product              object\n",
              "Sales               float64\n",
              "Quantity             object\n",
              "Discount            float64\n",
              "Profit               object\n",
              "Shipping Cost       float64\n",
              "Order Priority       object\n",
              "Customer ID          object\n",
              "Customer Name        object\n",
              "Segment              object\n",
              "City                 object\n",
              "State                object\n",
              "Country              object\n",
              "Region               object\n",
              "Months               object\n",
              "dtype: object"
            ]
          },
          "metadata": {},
          "execution_count": 18
        }
      ],
      "source": [
        "df.dtypes"
      ]
    },
    {
      "cell_type": "code",
      "execution_count": null,
      "id": "9d188b6a",
      "metadata": {
        "id": "9d188b6a",
        "outputId": "12d170d5-8cd7-461f-fd38-fda4815f3989",
        "colab": {
          "base_uri": "https://localhost:8080/"
        }
      },
      "outputs": [
        {
          "output_type": "stream",
          "name": "stderr",
          "text": [
            "<ipython-input-19-4e01d005e1d7>:2: FutureWarning: The default value of regex will change from True to False in a future version. In addition, single character regular expressions will *not* be treated as literal strings when regex=True.\n",
            "  df['Profit'] = df['Profit'].str.replace('$',\"\")\n",
            "<ipython-input-19-4e01d005e1d7>:2: SettingWithCopyWarning: \n",
            "A value is trying to be set on a copy of a slice from a DataFrame.\n",
            "Try using .loc[row_indexer,col_indexer] = value instead\n",
            "\n",
            "See the caveats in the documentation: https://pandas.pydata.org/pandas-docs/stable/user_guide/indexing.html#returning-a-view-versus-a-copy\n",
            "  df['Profit'] = df['Profit'].str.replace('$',\"\")\n",
            "<ipython-input-19-4e01d005e1d7>:3: SettingWithCopyWarning: \n",
            "A value is trying to be set on a copy of a slice from a DataFrame.\n",
            "Try using .loc[row_indexer,col_indexer] = value instead\n",
            "\n",
            "See the caveats in the documentation: https://pandas.pydata.org/pandas-docs/stable/user_guide/indexing.html#returning-a-view-versus-a-copy\n",
            "  df['Profit'] = df['Profit'].astype(float)\n"
          ]
        }
      ],
      "source": [
        "## Data Cleaning for Profit ## \n",
        "df['Profit'] = df['Profit'].str.replace('$',\"\")\n",
        "df['Profit'] = df['Profit'].astype(float)"
      ]
    },
    {
      "cell_type": "code",
      "execution_count": null,
      "id": "8ee7f7b7",
      "metadata": {
        "id": "8ee7f7b7",
        "outputId": "8fb753cd-963b-4ea0-a57d-01b19a72b115",
        "colab": {
          "base_uri": "https://localhost:8080/"
        }
      },
      "outputs": [
        {
          "output_type": "execute_result",
          "data": {
            "text/plain": [
              "array(['2', '3', '5', '1', '4', nan, 'abc', 4, 5, 2, 3, 1], dtype=object)"
            ]
          },
          "metadata": {},
          "execution_count": 20
        }
      ],
      "source": [
        "## Data Cleaning for Quantity ## \n",
        "df['Quantity'].unique()"
      ]
    },
    {
      "cell_type": "code",
      "execution_count": null,
      "id": "8e721801",
      "metadata": {
        "id": "8e721801",
        "outputId": "6eb5196f-e173-42a3-d68d-5de863cc7d24",
        "colab": {
          "base_uri": "https://localhost:8080/"
        }
      },
      "outputs": [
        {
          "output_type": "execute_result",
          "data": {
            "text/plain": [
              "array(['2', '3', '5', '1', '4', nan, 4, 5, 2, 3, 1], dtype=object)"
            ]
          },
          "metadata": {},
          "execution_count": 21
        }
      ],
      "source": [
        "# Removing invalid data values\n",
        "df=df[df['Quantity'] != (\"abc\")]\n",
        "df['Quantity'].unique()"
      ]
    },
    {
      "cell_type": "code",
      "execution_count": null,
      "id": "542c1d4b",
      "metadata": {
        "id": "542c1d4b",
        "outputId": "291a0ea3-acfe-4a7f-f344-92b76d9526db",
        "colab": {
          "base_uri": "https://localhost:8080/"
        }
      },
      "outputs": [
        {
          "output_type": "stream",
          "name": "stderr",
          "text": [
            "<ipython-input-22-708696aa26a9>:1: SettingWithCopyWarning: \n",
            "A value is trying to be set on a copy of a slice from a DataFrame.\n",
            "Try using .loc[row_indexer,col_indexer] = value instead\n",
            "\n",
            "See the caveats in the documentation: https://pandas.pydata.org/pandas-docs/stable/user_guide/indexing.html#returning-a-view-versus-a-copy\n",
            "  df['Quantity'] = df['Quantity'].astype(float)\n"
          ]
        },
        {
          "output_type": "execute_result",
          "data": {
            "text/plain": [
              "Order ID             object\n",
              "Order Date           object\n",
              "Ship Date            object\n",
              "Aging               float64\n",
              "Ship Mode            object\n",
              "Product Category     object\n",
              "Product              object\n",
              "Sales               float64\n",
              "Quantity            float64\n",
              "Discount            float64\n",
              "Profit              float64\n",
              "Shipping Cost       float64\n",
              "Order Priority       object\n",
              "Customer ID          object\n",
              "Customer Name        object\n",
              "Segment              object\n",
              "City                 object\n",
              "State                object\n",
              "Country              object\n",
              "Region               object\n",
              "Months               object\n",
              "dtype: object"
            ]
          },
          "metadata": {},
          "execution_count": 22
        }
      ],
      "source": [
        "df['Quantity'] = df['Quantity'].astype(float)\n",
        "df.dtypes"
      ]
    },
    {
      "cell_type": "code",
      "execution_count": null,
      "id": "9fb5f887",
      "metadata": {
        "id": "9fb5f887",
        "outputId": "3780d1e6-029f-4ed4-94ec-c08cb3897f71",
        "colab": {
          "base_uri": "https://localhost:8080/"
        }
      },
      "outputs": [
        {
          "output_type": "execute_result",
          "data": {
            "text/plain": [
              "array([ 2.,  3.,  5.,  1.,  4., nan])"
            ]
          },
          "metadata": {},
          "execution_count": 23
        }
      ],
      "source": [
        "df['Quantity'].unique()"
      ]
    },
    {
      "cell_type": "code",
      "execution_count": null,
      "id": "50d1e1c1",
      "metadata": {
        "id": "50d1e1c1",
        "outputId": "de948bdb-f670-4509-9e8a-5a72f50d5261",
        "colab": {
          "base_uri": "https://localhost:8080/"
        }
      },
      "outputs": [
        {
          "output_type": "execute_result",
          "data": {
            "text/plain": [
              "0        11/9/15\n",
              "1        6/30/15\n",
              "2        12/5/15\n",
              "3         5/9/15\n",
              "4         7/9/15\n",
              "          ...   \n",
              "51285    1/21/15\n",
              "51286    6/22/15\n",
              "51287     1/1/15\n",
              "51288    12/7/15\n",
              "51289    12/1/15\n",
              "Name: Order Date, Length: 51287, dtype: object"
            ]
          },
          "metadata": {},
          "execution_count": 24
        }
      ],
      "source": [
        "## Data Cleaning for Order Date ## \n",
        "df['Order Date']"
      ]
    },
    {
      "cell_type": "code",
      "execution_count": null,
      "id": "7bb465e6",
      "metadata": {
        "id": "7bb465e6",
        "outputId": "cfe0a436-6898-42bc-f1fc-5fde8f600544",
        "colab": {
          "base_uri": "https://localhost:8080/"
        }
      },
      "outputs": [
        {
          "output_type": "stream",
          "name": "stderr",
          "text": [
            "<ipython-input-25-3efc3ce11ddd>:2: SettingWithCopyWarning: \n",
            "A value is trying to be set on a copy of a slice from a DataFrame.\n",
            "Try using .loc[row_indexer,col_indexer] = value instead\n",
            "\n",
            "See the caveats in the documentation: https://pandas.pydata.org/pandas-docs/stable/user_guide/indexing.html#returning-a-view-versus-a-copy\n",
            "  df['Order Date'] = pd.to_datetime(df['Order Date'])\n"
          ]
        },
        {
          "output_type": "execute_result",
          "data": {
            "text/plain": [
              "0       2015-11-09\n",
              "1       2015-06-30\n",
              "2       2015-12-05\n",
              "3       2015-05-09\n",
              "4       2015-07-09\n",
              "           ...    \n",
              "51285   2015-01-21\n",
              "51286   2015-06-22\n",
              "51287   2015-01-01\n",
              "51288   2015-12-07\n",
              "51289   2015-12-01\n",
              "Name: Order Date, Length: 51287, dtype: datetime64[ns]"
            ]
          },
          "metadata": {},
          "execution_count": 25
        }
      ],
      "source": [
        "# Convert to datetime type\n",
        "df['Order Date'] = pd.to_datetime(df['Order Date'])\n",
        "df['Order Date']"
      ]
    },
    {
      "cell_type": "code",
      "execution_count": null,
      "id": "113bcb1a",
      "metadata": {
        "id": "113bcb1a"
      },
      "outputs": [],
      "source": [
        "## Data Cleaning for Ship Date ## \n",
        "# Convert to datetime type\n",
        "df['Ship Date'] = pd.to_datetime(df['Ship Date'])"
      ]
    },
    {
      "cell_type": "code",
      "execution_count": null,
      "id": "8536acbf",
      "metadata": {
        "id": "8536acbf",
        "outputId": "459b2237-a818-4a5f-dc90-ba8610196839",
        "colab": {
          "base_uri": "https://localhost:8080/"
        }
      },
      "outputs": [
        {
          "output_type": "execute_result",
          "data": {
            "text/plain": [
              "Order ID                    object\n",
              "Order Date          datetime64[ns]\n",
              "Ship Date           datetime64[ns]\n",
              "Aging                      float64\n",
              "Ship Mode                   object\n",
              "Product Category            object\n",
              "Product                     object\n",
              "Sales                      float64\n",
              "Quantity                   float64\n",
              "Discount                   float64\n",
              "Profit                     float64\n",
              "Shipping Cost              float64\n",
              "Order Priority              object\n",
              "Customer ID                 object\n",
              "Customer Name               object\n",
              "Segment                     object\n",
              "City                        object\n",
              "State                       object\n",
              "Country                     object\n",
              "Region                      object\n",
              "Months                      object\n",
              "dtype: object"
            ]
          },
          "metadata": {},
          "execution_count": 27
        }
      ],
      "source": [
        "df.dtypes"
      ]
    },
    {
      "cell_type": "code",
      "execution_count": null,
      "id": "3d1b02cf",
      "metadata": {
        "id": "3d1b02cf",
        "outputId": "2156c35d-a5eb-4ff9-8949-50429e959fcd",
        "colab": {
          "base_uri": "https://localhost:8080/"
        }
      },
      "outputs": [
        {
          "output_type": "execute_result",
          "data": {
            "text/plain": [
              "Standard Class    30775\n",
              "Second Class      10309\n",
              "First Class        7501\n",
              "Same Day           2701\n",
              "Name: Ship Mode, dtype: int64"
            ]
          },
          "metadata": {},
          "execution_count": 28
        }
      ],
      "source": [
        "## Data Cleaning for Ship Mode ## \n",
        "df = df[df['Ship Mode'] != '45788']\n",
        "df['Ship Mode'].value_counts()"
      ]
    },
    {
      "cell_type": "code",
      "execution_count": null,
      "id": "e1164686",
      "metadata": {
        "id": "e1164686",
        "outputId": "265eb187-f3ec-4e88-d03a-e970dc7c6c57",
        "colab": {
          "base_uri": "https://localhost:8080/"
        }
      },
      "outputs": [
        {
          "output_type": "execute_result",
          "data": {
            "text/plain": [
              "Central           11117\n",
              "South              6643\n",
              "EMEA               5029\n",
              "North              4784\n",
              "Africa             4586\n",
              "Oceania            3487\n",
              "West               3203\n",
              "Southeast Asia     3128\n",
              "East               2848\n",
              "North Asia         2336\n",
              "Central Asia       2048\n",
              "Caribbean          1690\n",
              "Canada              384\n",
              "So3th                 1\n",
              "4orth                 1\n",
              "Name: Region, dtype: int64"
            ]
          },
          "metadata": {},
          "execution_count": 29
        }
      ],
      "source": [
        "## Data Cleaning for Region ##\n",
        "df['Region'].value_counts()"
      ]
    },
    {
      "cell_type": "code",
      "execution_count": null,
      "id": "e681c977",
      "metadata": {
        "id": "e681c977",
        "outputId": "8186ecfc-3010-42a5-c295-6b1916481f16",
        "colab": {
          "base_uri": "https://localhost:8080/"
        }
      },
      "outputs": [
        {
          "output_type": "execute_result",
          "data": {
            "text/plain": [
              "Central           11117\n",
              "South              6644\n",
              "EMEA               5029\n",
              "North              4785\n",
              "Africa             4586\n",
              "Oceania            3487\n",
              "West               3203\n",
              "Southeast Asia     3128\n",
              "East               2848\n",
              "North Asia         2336\n",
              "Central Asia       2048\n",
              "Caribbean          1690\n",
              "Canada              384\n",
              "Name: Region, dtype: int64"
            ]
          },
          "metadata": {},
          "execution_count": 30
        }
      ],
      "source": [
        "df['Region'] = df['Region'].str.replace('So3th',\"South\")\n",
        "df['Region'] = df['Region'].str.replace('4orth',\"North\")\n",
        "df['Region'].value_counts()"
      ]
    },
    {
      "cell_type": "markdown",
      "id": "c50deaf8",
      "metadata": {
        "id": "c50deaf8"
      },
      "source": [
        "### Checking for NaN values <a id=\"section2.2\"></a>\n",
        "Removing all the rows containing missing and unknown data"
      ]
    },
    {
      "cell_type": "code",
      "execution_count": null,
      "id": "6a65cd33",
      "metadata": {
        "id": "6a65cd33",
        "outputId": "837b9b25-3443-45f1-c45a-29e00bcba43a",
        "colab": {
          "base_uri": "https://localhost:8080/"
        }
      },
      "outputs": [
        {
          "output_type": "execute_result",
          "data": {
            "text/plain": [
              "Order ID                0\n",
              "Order Date              1\n",
              "Ship Date               0\n",
              "Aging                   1\n",
              "Ship Mode               0\n",
              "Product Category        0\n",
              "Product                 0\n",
              "Sales                   0\n",
              "Quantity                1\n",
              "Discount            18522\n",
              "Profit                  0\n",
              "Shipping Cost           0\n",
              "Order Priority          2\n",
              "Customer ID             1\n",
              "Customer Name           0\n",
              "Segment                 1\n",
              "City                    0\n",
              "State                   0\n",
              "Country                 0\n",
              "Region                  1\n",
              "Months                  0\n",
              "dtype: int64"
            ]
          },
          "metadata": {},
          "execution_count": 31
        }
      ],
      "source": [
        "df.isnull().sum()"
      ]
    },
    {
      "cell_type": "markdown",
      "id": "5a92ae32",
      "metadata": {
        "id": "5a92ae32"
      },
      "source": [
        "For the `Discount` column, we make an assumption that the values that contain missing values or unknown data are ones that have zero discount"
      ]
    },
    {
      "cell_type": "code",
      "execution_count": null,
      "id": "5197b249",
      "metadata": {
        "id": "5197b249",
        "outputId": "7349510d-6400-4be4-c3c4-23aedd362ee9",
        "colab": {
          "base_uri": "https://localhost:8080/"
        }
      },
      "outputs": [
        {
          "output_type": "execute_result",
          "data": {
            "text/plain": [
              "Order ID            0\n",
              "Order Date          1\n",
              "Ship Date           0\n",
              "Aging               1\n",
              "Ship Mode           0\n",
              "Product Category    0\n",
              "Product             0\n",
              "Sales               0\n",
              "Quantity            1\n",
              "Discount            0\n",
              "Profit              0\n",
              "Shipping Cost       0\n",
              "Order Priority      2\n",
              "Customer ID         1\n",
              "Customer Name       0\n",
              "Segment             1\n",
              "City                0\n",
              "State               0\n",
              "Country             0\n",
              "Region              1\n",
              "Months              0\n",
              "dtype: int64"
            ]
          },
          "metadata": {},
          "execution_count": 32
        }
      ],
      "source": [
        "df['Discount'] = df['Discount'].fillna(0)\n",
        "df.isnull().sum()"
      ]
    },
    {
      "cell_type": "markdown",
      "id": "6b419146",
      "metadata": {
        "id": "6b419146"
      },
      "source": [
        "For the other columns, we remove the missing/unknown data to increase our accuracy  "
      ]
    },
    {
      "cell_type": "code",
      "execution_count": null,
      "id": "d6bae5ce",
      "metadata": {
        "id": "d6bae5ce",
        "outputId": "ab864887-46be-465b-b43b-ba0a8ab9ce12",
        "colab": {
          "base_uri": "https://localhost:8080/"
        }
      },
      "outputs": [
        {
          "output_type": "execute_result",
          "data": {
            "text/plain": [
              "Order ID            0\n",
              "Order Date          0\n",
              "Ship Date           0\n",
              "Aging               0\n",
              "Ship Mode           0\n",
              "Product Category    0\n",
              "Product             0\n",
              "Sales               0\n",
              "Quantity            0\n",
              "Discount            0\n",
              "Profit              0\n",
              "Shipping Cost       0\n",
              "Order Priority      0\n",
              "Customer ID         0\n",
              "Customer Name       0\n",
              "Segment             0\n",
              "City                0\n",
              "State               0\n",
              "Country             0\n",
              "Region              0\n",
              "Months              0\n",
              "dtype: int64"
            ]
          },
          "metadata": {},
          "execution_count": 33
        }
      ],
      "source": [
        "df = df.dropna()\n",
        "df.isnull().sum()"
      ]
    },
    {
      "cell_type": "code",
      "execution_count": null,
      "id": "1ba8338c",
      "metadata": {
        "id": "1ba8338c",
        "outputId": "0253ea3c-ae1b-4469-c7b7-1dddd878f276",
        "colab": {
          "base_uri": "https://localhost:8080/"
        }
      },
      "outputs": [
        {
          "output_type": "execute_result",
          "data": {
            "text/plain": [
              "(51278, 21)"
            ]
          },
          "metadata": {},
          "execution_count": 34
        }
      ],
      "source": [
        "df.shape"
      ]
    },
    {
      "cell_type": "markdown",
      "id": "8744ddbc",
      "metadata": {
        "id": "8744ddbc"
      },
      "source": [
        "### Checking for Duplicates <a id=\"section2.3\"></a>"
      ]
    },
    {
      "cell_type": "code",
      "execution_count": null,
      "id": "ff1de3f2",
      "metadata": {
        "id": "ff1de3f2",
        "outputId": "0ca1e1b4-4dc1-41ae-dabc-7998086cd30b",
        "colab": {
          "base_uri": "https://localhost:8080/"
        }
      },
      "outputs": [
        {
          "output_type": "stream",
          "name": "stdout",
          "text": [
            "Empty DataFrame\n",
            "Columns: [Order ID, Order Date, Ship Date, Aging, Ship Mode, Product Category, Product, Sales, Quantity, Discount, Profit, Shipping Cost, Order Priority, Customer ID, Customer Name, Segment, City, State, Country, Region, Months]\n",
            "Index: []\n",
            "\n",
            "[0 rows x 21 columns]\n"
          ]
        }
      ],
      "source": [
        "print(df[df.duplicated() == True])"
      ]
    },
    {
      "cell_type": "markdown",
      "id": "d4a16a8e",
      "metadata": {
        "id": "d4a16a8e"
      },
      "source": [
        "Shows that there are no duplicates in the dataframe"
      ]
    },
    {
      "cell_type": "markdown",
      "id": "a975ae98",
      "metadata": {
        "id": "a975ae98"
      },
      "source": [
        "### Checking for Outliers <a id=\"section2.4\"></a>"
      ]
    },
    {
      "cell_type": "code",
      "execution_count": null,
      "id": "f92a18e3",
      "metadata": {
        "id": "f92a18e3",
        "outputId": "69b80643-5271-4a9c-ffbf-5492a4160a1c",
        "colab": {
          "base_uri": "https://localhost:8080/",
          "height": 265
        }
      },
      "outputs": [
        {
          "output_type": "display_data",
          "data": {
            "text/plain": [
              "<Figure size 432x288 with 1 Axes>"
            ],
            "image/png": "[encoded data removed]"
          },
          "metadata": {
            "needs_background": "light"
          }
        }
      ],
      "source": [
        "sns.boxplot(data=df)\n",
        "plt.show()"
      ]
    },
    {
      "cell_type": "code",
      "execution_count": null,
      "id": "9c63cb0b",
      "metadata": {
        "id": "9c63cb0b",
        "colab": {
          "base_uri": "https://localhost:8080/",
          "height": 601
        },
        "outputId": "ac11e659-0e2e-4333-e07a-10229839d5c1"
      },
      "outputs": [
        {
          "output_type": "execute_result",
          "data": {
            "text/plain": [
              "Text(0, 0.5, 'count')"
            ]
          },
          "metadata": {},
          "execution_count": 37
        },
        {
          "output_type": "display_data",
          "data": {
            "text/plain": [
              "<Figure size 720x576 with 1 Axes>"
            ],
            "image/png": "[encoded data removed]"
          },
          "metadata": {
            "needs_background": "light"
          }
        }
      ],
      "source": [
        "top_10 = df['Country'].value_counts()[:10]\n",
        "top_10.plot(kind='bar',figsize=(10,8))\n",
        "plt.title('Top 10 Countries based Sales') \n",
        "plt.xlabel(\"Country\")\n",
        "plt.ylabel(\"count\")"
      ]
    },
    {
      "cell_type": "markdown",
      "source": [
        "<h2>Finding out which product category is more popular in certain months</h2>"
      ],
      "metadata": {
        "id": "L9kA4_XYF112"
      },
      "id": "L9kA4_XYF112"
    },
    {
      "cell_type": "code",
      "source": [
        "popular_products = df.groupby(['Product Category', 'Months'])['Quantity'].sum().reset_index()\n",
        "\n",
        "popular_products = popular_products.pivot(index='Product Category', columns='Months', values='Quantity')\n",
        "\n",
        "plt.figure(figsize=(12, 8))\n",
        "sns.heatmap(popular_products, cmap='YlGnBu', annot=True, fmt='.0f', linewidths=.5)\n",
        "plt.title('Popularity of Product Categories by Month')\n",
        "plt.xlabel('Month')\n",
        "plt.ylabel('Product Category')\n",
        "plt.show()"
      ],
      "metadata": {
        "colab": {
          "base_uri": "https://localhost:8080/",
          "height": 513
        },
        "id": "mseU_SorF5uJ",
        "outputId": "0b78b920-1ae9-4818-88f7-8aaed6ff253a"
      },
      "id": "mseU_SorF5uJ",
      "execution_count": null,
      "outputs": [
        {
          "output_type": "display_data",
          "data": {
            "text/plain": [
              "<Figure size 864x576 with 2 Axes>"
            ],
            "image/png": "[encoded data removed]"
          },
          "metadata": {
            "needs_background": "light"
          }
        }
      ]
    },
    {
      "cell_type": "markdown",
      "source": [
        "<h3>Using country as observation for profit</h3>"
      ],
      "metadata": {
        "id": "IVIKFbCFF_K3"
      },
      "id": "IVIKFbCFF_K3"
    },
    {
      "cell_type": "code",
      "source": [
        "profit_by_country = df.groupby(\"Country\")[\"Profit\"].sum().reset_index()\n",
        "profit_by_country_sorted = profit_by_country.sort_values(\"Profit\", ascending=False)\n",
        "top_10_countries = profit_by_country_sorted.head(10)\n",
        "fig = plt.figure(figsize=(12,6))\n",
        "plt.bar(top_10_countries[\"Country\"], top_10_countries[\"Profit\"])\n",
        "plt.title(\"Bar Plot of Top 10 Countries with Highest Profit\")\n",
        "plt.ylabel(\"Profit\")\n",
        "plt.xlabel(\"Country\")\n",
        "plt.show()"
      ],
      "metadata": {
        "colab": {
          "base_uri": "https://localhost:8080/",
          "height": 404
        },
        "id": "YkKc7t6XGD2F",
        "outputId": "fdc4e6e8-f01e-41d7-bc29-487f90aaa098"
      },
      "id": "YkKc7t6XGD2F",
      "execution_count": null,
      "outputs": [
        {
          "output_type": "display_data",
          "data": {
            "text/plain": [
              "<Figure size 864x432 with 1 Axes>"
            ],
            "image/png": "[encoded data removed]"
          },
          "metadata": {
            "needs_background": "light"
          }
        }
      ]
    },
    {
      "cell_type": "markdown",
      "source": [
        "<h3>Using state as observation for profit</h3>"
      ],
      "metadata": {
        "id": "GVdhLt3xGfCC"
      },
      "id": "GVdhLt3xGfCC"
    },
    {
      "cell_type": "markdown",
      "source": [
        "ALL States"
      ],
      "metadata": {
        "id": "CbuDRRNmGYlk"
      },
      "id": "CbuDRRNmGYlk"
    },
    {
      "cell_type": "code",
      "source": [
        "profit_by_state = df.groupby(\"State\")[\"Profit\"].sum().reset_index()\n",
        "top_10_states = profit_by_state.sort_values(\"Profit\", ascending=False).head(10)\n",
        "fig = plt.figure(figsize=(22,10))\n",
        "plt.bar(top_10_states[\"State\"], top_10_states[\"Profit\"])\n",
        "plt.title(\"Bar Plot of Top 10 states (ALL) with Highest Profit\")\n",
        "plt.ylabel(\"Profit\")\n",
        "plt.xlabel(\"State\")\n",
        "plt.show()"
      ],
      "metadata": {
        "id": "6s1cubS4Ggbv",
        "colab": {
          "base_uri": "https://localhost:8080/",
          "height": 490
        },
        "outputId": "9ce760b1-41fa-49df-810c-ad1040756a1c"
      },
      "id": "6s1cubS4Ggbv",
      "execution_count": null,
      "outputs": [
        {
          "output_type": "display_data",
          "data": {
            "text/plain": [
              "<Figure size 1584x720 with 1 Axes>"
            ],
            "image/png": "[encoded data removed]"
          },
          "metadata": {
            "needs_background": "light"
          }
        }
      ]
    },
    {
      "cell_type": "markdown",
      "source": [
        "Expansion into United States\n",
        "- Since the United States is significantly more profitable than the other countries, we would like to see which states within the US are the most profitable"
      ],
      "metadata": {
        "id": "oCN0rgrzGid9"
      },
      "id": "oCN0rgrzGid9"
    },
    {
      "cell_type": "code",
      "source": [
        "us_df = df[df[\"Country\"] == \"United States\"]\n",
        "profit_by_state = us_df.groupby(\"State\")[\"Profit\"].sum().reset_index()\n",
        "top_10_states = profit_by_state.sort_values(\"Profit\", ascending=False).head(10)\n",
        "fig = plt.figure(figsize=(12,6))\n",
        "plt.bar(top_10_states[\"State\"], top_10_states[\"Profit\"])\n",
        "plt.title(\"Bar Plot of Top 10 states (within US) with Highest Profit\")\n",
        "plt.ylabel(\"Profit\")\n",
        "plt.xlabel(\"State\")\n",
        "plt.show()"
      ],
      "metadata": {
        "id": "vwf1cikZGmin",
        "colab": {
          "base_uri": "https://localhost:8080/",
          "height": 404
        },
        "outputId": "44ad7b5f-b052-4a40-f96b-9fe293a4bf66"
      },
      "id": "vwf1cikZGmin",
      "execution_count": null,
      "outputs": [
        {
          "output_type": "display_data",
          "data": {
            "text/plain": [
              "<Figure size 864x432 with 1 Axes>"
            ],
            "image/png": "[encoded data removed]"
          },
          "metadata": {
            "needs_background": "light"
          }
        }
      ]
    },
    {
      "cell_type": "markdown",
      "source": [
        "Using city as observation for profit"
      ],
      "metadata": {
        "id": "8zNWvynjGpsN"
      },
      "id": "8zNWvynjGpsN"
    },
    {
      "cell_type": "code",
      "source": [
        "cali_df = df[df[\"State\"] == \"California\"]\n",
        "profit_by_city = cali_df.groupby(\"City\")[\"Profit\"].sum().reset_index()\n",
        "top_10_states = profit_by_city.sort_values(\"Profit\", ascending=False).head(5)\n",
        "fig = plt.figure(figsize=(12,6))\n",
        "plt.bar(top_10_states[\"City\"], top_10_states[\"Profit\"])\n",
        "plt.title(\"Bar Plot of Top 5 City (within California) with Highest Profit\")\n",
        "plt.ylabel(\"Profit\")\n",
        "plt.xlabel(\"City\")\n",
        "plt.show()"
      ],
      "metadata": {
        "id": "InBOj8EPGuWA",
        "colab": {
          "base_uri": "https://localhost:8080/",
          "height": 404
        },
        "outputId": "ede959ae-5681-4373-fbfc-e94c8394b0de"
      },
      "id": "InBOj8EPGuWA",
      "execution_count": null,
      "outputs": [
        {
          "output_type": "display_data",
          "data": {
            "text/plain": [
              "<Figure size 864x432 with 1 Axes>"
            ],
            "image/png": "[encoded data removed]"
          },
          "metadata": {
            "needs_background": "light"
          }
        }
      ]
    },
    {
      "cell_type": "markdown",
      "source": [
        "ALL cities"
      ],
      "metadata": {
        "id": "YMkVudQhGw0x"
      },
      "id": "YMkVudQhGw0x"
    },
    {
      "cell_type": "code",
      "source": [
        "profit_by_city = df.groupby(\"City\")[\"Profit\"].sum().reset_index()\n",
        "top_10_states = profit_by_city.sort_values(\"Profit\", ascending=False).head(5)\n",
        "fig = plt.figure(figsize=(12,6))\n",
        "plt.bar(top_10_states[\"City\"], top_10_states[\"Profit\"])\n",
        "plt.title(\"Bar Plot of Top 5 City (ALL) with Highest Profit\")\n",
        "plt.ylabel(\"Profit\")\n",
        "plt.xlabel(\"City\")\n",
        "plt.show()"
      ],
      "metadata": {
        "id": "3XDQtbYpGyXk",
        "colab": {
          "base_uri": "https://localhost:8080/",
          "height": 404
        },
        "outputId": "1df0c785-101c-4c45-fb42-2dc032439f94"
      },
      "id": "3XDQtbYpGyXk",
      "execution_count": null,
      "outputs": [
        {
          "output_type": "display_data",
          "data": {
            "text/plain": [
              "<Figure size 864x432 with 1 Axes>"
            ],
            "image/png": "[encoded data removed]"
          },
          "metadata": {
            "needs_background": "light"
          }
        }
      ]
    },
    {
      "cell_type": "markdown",
      "source": [
        "Trend of profitability over a year\n",
        "- We will be using the Order Date field as the base attribute to determine the month"
      ],
      "metadata": {
        "id": "ILvQnPG4G1NL"
      },
      "id": "ILvQnPG4G1NL"
    },
    {
      "cell_type": "code",
      "source": [
        "df[\"Month\"] = df[\"Order Date\"].dt.month\n",
        "profit_by_month = df.groupby(\"Month\")[\"Profit\"].sum().reset_index()\n",
        "profit_by_month = profit_by_month.sort_values(\"Profit\", ascending=False)\n",
        "\n",
        "x = profit_by_month[\"Month\"]\n",
        "y = profit_by_month[\"Profit\"]\n",
        "slope, intercept = np.polyfit(x, y, 1)\n",
        "\n",
        "fig = plt.figure(figsize=(20,6))\n",
        "\n",
        "month_names = [\"January\", \"February\", \"March\", \"April\", \"May\", \"June\", \n",
        "               \"July\", \"August\", \"September\", \"October\", \"November\", \"December\"]\n",
        "plt.xticks(profit_by_month[\"Month\"].sort_values(), month_names)\n",
        "\n",
        "plt.bar(x, y)\n",
        "plt.xlabel(\"Month\")\n",
        "plt.ylabel(\"Profit\")\n",
        "plt.title(\"Profits by Month\")\n",
        "\n",
        "plt.ylim(bottom=270000)\n",
        "plt.plot(x, slope*x + intercept, color=\"red\")\n",
        "\n",
        "plt.show()\n"
      ],
      "metadata": {
        "id": "2GiXMnazG6bM",
        "colab": {
          "base_uri": "https://localhost:8080/",
          "height": 348
        },
        "outputId": "cfa826c1-dcf5-4300-8cbd-baeb4f60b7ca"
      },
      "id": "2GiXMnazG6bM",
      "execution_count": null,
      "outputs": [
        {
          "output_type": "display_data",
          "data": {
            "text/plain": [
              "<Figure size 1440x432 with 1 Axes>"
            ],
            "image/png": "[encoded data removed]"
          },
          "metadata": {
            "needs_background": "light"
          }
        }
      ]
    },
    {
      "cell_type": "markdown",
      "source": [
        "Finding the raw count of orders per month"
      ],
      "metadata": {
        "id": "MAUDYmFCG8yb"
      },
      "id": "MAUDYmFCG8yb"
    },
    {
      "cell_type": "code",
      "source": [
        "month_dict = {\n",
        "    1: \"January\",\n",
        "    2: \"February\",\n",
        "    3: \"March\",\n",
        "    4: \"April\",\n",
        "    5: \"May\",\n",
        "    6: \"June\",\n",
        "    7: \"July\",\n",
        "    8: \"August\",\n",
        "    9: \"September\",\n",
        "    10: \"October\",\n",
        "    11: \"November\",\n",
        "    12: \"December\"\n",
        "}\n",
        "df[\"Month\"] = df[\"Order Date\"].dt.month\n",
        "top_10_month_count = df[\"Month\"].value_counts().sort_index()\n",
        "top_10_month_count_in_order = top_10_month_count.rename(index=month_dict)\n",
        "top_10_month_count_in_order.plot(kind='bar', figsize=(14,6))\n",
        "plt.title(\"Count of orders per month\")\n",
        "plt.xlabel(\"Month\")\n",
        "plt.ylabel(\"Count\")\n",
        "\n",
        "plt.ylim(3800)\n",
        "\n",
        "plt.show()"
      ],
      "metadata": {
        "id": "B6XUjGbgHCX_",
        "colab": {
          "base_uri": "https://localhost:8080/",
          "height": 449
        },
        "outputId": "65fa37c1-26fe-4824-8250-99da7df0bc0c"
      },
      "id": "B6XUjGbgHCX_",
      "execution_count": null,
      "outputs": [
        {
          "output_type": "display_data",
          "data": {
            "text/plain": [
              "<Figure size 1008x432 with 1 Axes>"
            ],
            "image/png": "[encoded data removed]"
          },
          "metadata": {
            "needs_background": "light"
          }
        }
      ]
    },
    {
      "cell_type": "markdown",
      "source": [
        "### Profitability of Top 10 Products"
      ],
      "metadata": {
        "id": "0dIrSByrtpdR"
      },
      "id": "0dIrSByrtpdR"
    },
    {
      "cell_type": "code",
      "source": [
        "profit_by_product = df.groupby(\"Product\")[\"Profit\"].sum().reset_index()\n",
        "top_10_product = profit_by_product.sort_values(\"Profit\", ascending=False).head(10)\n",
        "fig = plt.figure(figsize=(22,10))\n",
        "plt.bar(top_10_product[\"Product\"], top_10_product[\"Profit\"])\n",
        "\n",
        "plt.title(\"Bar Plot of Top 10 Products with Highest Profit\")\n",
        "plt.ylabel(\"Profit\")\n",
        "plt.xlabel(\"Products\")\n",
        "plt.grid()\n",
        "plt.show()"
      ],
      "metadata": {
        "colab": {
          "base_uri": "https://localhost:8080/",
          "height": 240
        },
        "id": "_Ra_GvIhtll6",
        "outputId": "af9bee66-91dd-4ef7-ab87-6ecd9a238e48"
      },
      "id": "_Ra_GvIhtll6",
      "execution_count": 1,
      "outputs": [
        {
          "output_type": "error",
          "ename": "NameError",
          "evalue": "ignored",
          "traceback": [
            "\u001b[0;31m---------------------------------------------------------------------------\u001b[0m",
            "\u001b[0;31mNameError\u001b[0m                                 Traceback (most recent call last)",
            "\u001b[0;32m<ipython-input-1-3dfe46b391d1>\u001b[0m in \u001b[0;36m<module>\u001b[0;34m\u001b[0m\n\u001b[0;32m----> 1\u001b[0;31m \u001b[0mprofit_by_product\u001b[0m \u001b[0;34m=\u001b[0m \u001b[0mdf\u001b[0m\u001b[0;34m.\u001b[0m\u001b[0mgroupby\u001b[0m\u001b[0;34m(\u001b[0m\u001b[0;34m\"Product\"\u001b[0m\u001b[0;34m)\u001b[0m\u001b[0;34m[\u001b[0m\u001b[0;34m\"Profit\"\u001b[0m\u001b[0;34m]\u001b[0m\u001b[0;34m.\u001b[0m\u001b[0msum\u001b[0m\u001b[0;34m(\u001b[0m\u001b[0;34m)\u001b[0m\u001b[0;34m.\u001b[0m\u001b[0mreset_index\u001b[0m\u001b[0;34m(\u001b[0m\u001b[0;34m)\u001b[0m\u001b[0;34m\u001b[0m\u001b[0;34m\u001b[0m\u001b[0m\n\u001b[0m\u001b[1;32m      2\u001b[0m \u001b[0mtop_10_product\u001b[0m \u001b[0;34m=\u001b[0m \u001b[0mprofit_by_product\u001b[0m\u001b[0;34m.\u001b[0m\u001b[0msort_values\u001b[0m\u001b[0;34m(\u001b[0m\u001b[0;34m\"Profit\"\u001b[0m\u001b[0;34m,\u001b[0m \u001b[0mascending\u001b[0m\u001b[0;34m=\u001b[0m\u001b[0;32mFalse\u001b[0m\u001b[0;34m)\u001b[0m\u001b[0;34m.\u001b[0m\u001b[0mhead\u001b[0m\u001b[0;34m(\u001b[0m\u001b[0;36m10\u001b[0m\u001b[0;34m)\u001b[0m\u001b[0;34m\u001b[0m\u001b[0;34m\u001b[0m\u001b[0m\n\u001b[1;32m      3\u001b[0m \u001b[0mfig\u001b[0m \u001b[0;34m=\u001b[0m \u001b[0mplt\u001b[0m\u001b[0;34m.\u001b[0m\u001b[0mfigure\u001b[0m\u001b[0;34m(\u001b[0m\u001b[0mfigsize\u001b[0m\u001b[0;34m=\u001b[0m\u001b[0;34m(\u001b[0m\u001b[0;36m22\u001b[0m\u001b[0;34m,\u001b[0m\u001b[0;36m10\u001b[0m\u001b[0;34m)\u001b[0m\u001b[0;34m)\u001b[0m\u001b[0;34m\u001b[0m\u001b[0;34m\u001b[0m\u001b[0m\n\u001b[1;32m      4\u001b[0m \u001b[0mplt\u001b[0m\u001b[0;34m.\u001b[0m\u001b[0mbar\u001b[0m\u001b[0;34m(\u001b[0m\u001b[0mtop_10_product\u001b[0m\u001b[0;34m[\u001b[0m\u001b[0;34m\"Product\"\u001b[0m\u001b[0;34m]\u001b[0m\u001b[0;34m,\u001b[0m \u001b[0mtop_10_product\u001b[0m\u001b[0;34m[\u001b[0m\u001b[0;34m\"Profit\"\u001b[0m\u001b[0;34m]\u001b[0m\u001b[0;34m)\u001b[0m\u001b[0;34m\u001b[0m\u001b[0;34m\u001b[0m\u001b[0m\n\u001b[1;32m      5\u001b[0m \u001b[0;34m\u001b[0m\u001b[0m\n",
            "\u001b[0;31mNameError\u001b[0m: name 'df' is not defined"
          ]
        }
      ]
    },
    {
      "cell_type": "code",
      "source": [
        "profit_by_segment = df.groupby(\"Segment\")[\"Profit\"].sum().reset_index()\n",
        "top_segments = profit_by_segment.sort_values(\"Profit\", ascending=False).head(10)\n",
        "fig = plt.figure(figsize=(22,10))\n",
        "plt.bar(top_segments[\"Segment\"], top_segments[\"Profit\"])\n",
        "\n",
        "plt.title(\"Bar Plot of Profit by Segments\")\n",
        "plt.ylabel(\"Profit\")\n",
        "plt.xlabel(\"Segments\")\n",
        "plt.grid()\n",
        "plt.show()"
      ],
      "metadata": {
        "id": "By-lKWTjtnOs"
      },
      "id": "By-lKWTjtnOs",
      "execution_count": null,
      "outputs": []
    }
  ],
  "metadata": {
    "kernelspec": {
      "display_name": "Python 3 (ipykernel)",
      "language": "python",
      "name": "python3"
    },
    "language_info": {
      "codemirror_mode": {
        "name": "ipython",
        "version": 3
      },
      "file_extension": ".py",
      "mimetype": "text/x-python",
      "name": "python",
      "nbconvert_exporter": "python",
      "pygments_lexer": "ipython3",
      "version": "3.9.13"
    },
    "colab": {
      "provenance": [],
      "include_colab_link": true
    }
  },
  "nbformat": 4,
  "nbformat_minor": 5
}